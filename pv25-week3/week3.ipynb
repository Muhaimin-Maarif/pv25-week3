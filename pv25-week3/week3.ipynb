{
 "cells": [
  {
   "cell_type": "code",
   "execution_count": null,
   "id": "2c3b2c92",
   "metadata": {},
   "outputs": [
    {
     "ename": "SystemExit",
     "evalue": "0",
     "output_type": "error",
     "traceback": [
      "An exception has occurred, use %tb to see the full traceback.\n",
      "\u001b[31mSystemExit\u001b[39m\u001b[31m:\u001b[39m 0\n"
     ]
    },
    {
     "name": "stderr",
     "output_type": "stream",
     "text": [
      "c:\\Users\\malya\\AppData\\Local\\Programs\\Python\\Python313\\Lib\\site-packages\\IPython\\core\\interactiveshell.py:3557: UserWarning: To exit: use 'exit', 'quit', or Ctrl-D.\n",
      "  warn(\"To exit: use 'exit', 'quit', or Ctrl-D.\", stacklevel=1)\n"
     ]
    }
   ],
   "source": [
    "import sys\n",
    "from PyQt6.QtWidgets import (QApplication,QWidget,QLabel)\n",
    "from PyQt6.QtGui import QMouseEvent\n",
    "import math\n",
    "import random\n",
    "\n",
    "\n",
    "class Task2(QWidget):\n",
    "    def __init__(self):\n",
    "        super().__init__()\n",
    "\n",
    "        self.resize(400,400)\n",
    "        self.setWindowTitle(\"Event object Week3\")\n",
    "\n",
    "        self.setStyleSheet(\"background-color: #1e1e1e;\")\n",
    "        self.label = QLabel(\"x:0, y:0\", self)\n",
    "        self.label.setStyleSheet(\"color: white\")\n",
    "\n",
    "        self.setMouseTracking(True)\n",
    "\n",
    "    def mouseMoveEvent(self, e:QMouseEvent):\n",
    "        x = int(e.position().x())\n",
    "        y = int(e.position().y())\n",
    "        self.label.setText(f\"x:{x}, y:{y} Created By Muhaimin\")\n",
    "        self.label.adjustSize()\n",
    "\n",
    "        dx = x - (self.label.x() + self.label.width() / 2)\n",
    "        dy = y - (self.label.y() + self.label.height() / 2)\n",
    "\n",
    "        if math.hypot(dx,dy) < 60:\n",
    "            self.pindah()\n",
    "\n",
    "    def pindah(self):\n",
    "        x = self.width() - self.label.width()\n",
    "        y = self.height() - self.label.height()\n",
    "        random_x = random.randint(0,x)\n",
    "        random_y = random.randint(0,y)\n",
    "        self.label.move(random_x, random_y)\n",
    "\n",
    "if __name__==\"__main__\":\n",
    "    app = QApplication(sys.argv)\n",
    "    window = Task2()\n",
    "    window.show()\n",
    "    sys.exit(app.exec())"
   ]
  }
 ],
 "metadata": {
  "kernelspec": {
   "display_name": "Python 3",
   "language": "python",
   "name": "python3"
  },
  "language_info": {
   "codemirror_mode": {
    "name": "ipython",
    "version": 3
   },
   "file_extension": ".py",
   "mimetype": "text/x-python",
   "name": "python",
   "nbconvert_exporter": "python",
   "pygments_lexer": "ipython3",
   "version": "3.13.2"
  }
 },
 "nbformat": 4,
 "nbformat_minor": 5
}
